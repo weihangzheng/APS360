{
  "nbformat": 4,
  "nbformat_minor": 0,
  "metadata": {
    "colab": {
      "name": "rnn.ipynb",
      "provenance": [],
      "collapsed_sections": [],
      "authorship_tag": "ABX9TyP7n4k6YMiuT7BXvjRCDtu5",
      "include_colab_link": true
    },
    "kernelspec": {
      "display_name": "Python 3",
      "name": "python3"
    },
    "language_info": {
      "name": "python"
    }
  },
  "cells": [
    {
      "cell_type": "markdown",
      "metadata": {
        "id": "view-in-github",
        "colab_type": "text"
      },
      "source": [
        "<a href=\"https://colab.research.google.com/github/xXWeIsLyXx/APS360/blob/main/rnn.ipynb\" target=\"_parent\"><img src=\"https://colab.research.google.com/assets/colab-badge.svg\" alt=\"Open In Colab\"/></a>"
      ]
    },
    {
      "cell_type": "code",
      "metadata": {
        "id": "_qEmJaMKYpzU"
      },
      "source": [
        "### 0.0 install dependencies\n",
        "!pip install librosa\n",
        "!pip install pydub "
      ],
      "execution_count": null,
      "outputs": []
    },
    {
      "cell_type": "code",
      "metadata": {
        "id": "jgrfu4RIYvOi"
      },
      "source": [
        "# 0.1 import dependencies\n",
        "\n",
        "import os\n",
        "import librosa\n",
        "import math\n",
        "import json\n",
        "from librosa import display\n",
        "import matplotlib.pyplot as plt\n",
        "import scipy.fft as fft\n",
        "import pandas as pd\n",
        "import numpy as np\n",
        "\n",
        "import soundfile as sf\n",
        "import matplotlib.pyplot as plt\n",
        "from os import path\n",
        "from pydub import AudioSegment\n",
        "import scipy.io.wavfile as wav\n",
        "\n",
        "import torch \n",
        "import torch.nn as nn\n",
        "import torchvision\n",
        "from sklearn.model_selection import train_test_split\n",
        "import matplotlib.pyplot as plt\n",
        "import torch.optim as optim\n",
        "\n",
        "import glob\n",
        "from sklearn import preprocessing"
      ],
      "execution_count": 2,
      "outputs": []
    },
    {
      "cell_type": "code",
      "metadata": {
        "colab": {
          "base_uri": "https://localhost:8080/"
        },
        "id": "9bNku9c2ayB-",
        "outputId": "9f0f35ce-4a00-4145-beff-3452d7f7dc4b"
      },
      "source": [
        "# 0.2 mount drive\n",
        "from google.colab import drive\n",
        "drive.mount('/content/gdrive')"
      ],
      "execution_count": 3,
      "outputs": [
        {
          "output_type": "stream",
          "name": "stdout",
          "text": [
            "Mounted at /content/gdrive\n"
          ]
        }
      ]
    },
    {
      "cell_type": "code",
      "metadata": {
        "colab": {
          "base_uri": "https://localhost:8080/"
        },
        "id": "x6STmMkraltR",
        "outputId": "dec73018-c77a-4250-e27a-c3d9e1b3ac04"
      },
      "source": [
        "# 0.3 import metadata\n",
        "root_path = \"/content/gdrive/MyDrive/APS360_project\"\n",
        "tracks = pd.read_csv(root_path + '/fma_metadata/tracks.csv', header=1, index_col=[0])\n",
        "\n",
        "tracks_genre = tracks[tracks.subset == \"small\"].filter([\"track_id\", \"genre_top\"])\n",
        "\n",
        "# divide tracks into genres\n",
        "\n",
        "genres = ['Rock', 'Hip-Hop', \"Electronic\", \"Folk\"]\n",
        "\n",
        "tracks_rock = tracks_genre.where(tracks_genre['genre_top'] == 'Rock').dropna()\n",
        "\n",
        "tracks_hip_hop = tracks_genre.where(tracks_genre['genre_top'] == 'Hip-Hop').dropna()\n",
        "\n",
        "tracks_elec = tracks_genre.where(tracks_genre['genre_top'] == 'Electronic').dropna()\n",
        "\n",
        "tracks_folk = tracks_genre.where(tracks_genre['genre_top'] == 'Folk').dropna()"
      ],
      "execution_count": 4,
      "outputs": [
        {
          "output_type": "stream",
          "name": "stderr",
          "text": [
            "/usr/local/lib/python3.7/dist-packages/IPython/core/interactiveshell.py:2718: DtypeWarning: Columns (0) have mixed types.Specify dtype option on import or set low_memory=False.\n",
            "  interactivity=interactivity, compiler=compiler, result=result)\n"
          ]
        }
      ]
    },
    {
      "cell_type": "code",
      "metadata": {
        "id": "5sKjOpYRbuc9",
        "colab": {
          "base_uri": "https://localhost:8080/"
        },
        "outputId": "c4a72b5d-2bf5-4e01-9778-acd82ce43274"
      },
      "source": [
        "#0.4 MFCC extraction \n",
        "def get_mp3_path(tracks_genre, id):\n",
        "  track_num = str(tracks_genre.iloc[id].name)\n",
        "  print(f\" ({track_num}) \", end=\"\")\n",
        "  filename  = (6-len(track_num))*'0' + track_num\n",
        "  mp3_path = \"/\" + filename[:3] + \"/\" + filename + \".mp3\"\n",
        "  print(f\"{mp3_path}\")\n",
        "  return mp3_path\n",
        "\n",
        "mp3_root = root_path + '/fma_small'\n",
        "\n",
        "tracks_genres = [tracks_rock, tracks_hip_hop, tracks_elec, tracks_folk]\n",
        "\n",
        "WAVE_PATH = root_path + \"/wav_files\"\n",
        "\n",
        "\n",
        "\n",
        "hop_length = 5\n",
        "num_segments = 50\n",
        "\n",
        "SAMPLES_PER_TRACK = 50\n",
        "samples_per_segment = int(SAMPLES_PER_TRACK / num_segments)\n",
        "num_mfcc_vectors_per_segment = math.ceil(samples_per_segment / hop_length)\n",
        "\n",
        "audios = []\n",
        "labels = []\n",
        "\n",
        "\n",
        "for track_genre in tracks_genres:\n",
        "    genre = track_genre.genre_top.iloc[0]\n",
        "    print(f\"Getting coefficients for {track_genre.genre_top.iloc[0]} genre...\")\n",
        "    for i in range(0,50):\n",
        "        dest = \"/\" + genre + \"/track\" + str(i) + \".wav\"\n",
        "        mp3_file = get_mp3_path(track_genre, i)\n",
        "        sound = AudioSegment.from_mp3(mp3_root + mp3_file)\n",
        "        sound.export(WAVE_PATH + dest, format=\"wav\")\n",
        "        sig, rate = librosa.load(WAVE_PATH + dest) \n",
        "\n",
        "        # process all segments of audio file\n",
        "        temp =[]\n",
        "        for d in range(num_segments):\n",
        "          # calculate start and finish sample for current segment\n",
        "          start = samples_per_segment * d\n",
        "          finish = start + samples_per_segment\n",
        "\n",
        "          # extract mfcc\n",
        "          mfcc = librosa.feature.mfcc(sig[start:finish], rate, n_mfcc=13, hop_length=1024)\n",
        "          temp.append(mfcc)\n",
        "          # audios.append(mfcc.tolist())\n",
        "\n",
        "        temp=np.concatenate(temp)\n",
        "        temp = temp.T\n",
        "        audios.append(temp)\n",
        "        labels.append(genre)\n",
        "audios = np.concatenate(audios)\n", 
        "\n"
      ],
      "execution_count": 7,
      "outputs": [
        {
          "output_type": "stream",
          "name": "stdout",
          "text": [
            "Getting coefficients for Rock genre...\n"
          ]
        },
        {
          "output_type": "stream",
          "name": "stderr",
          "text": [
            "/usr/local/lib/python3.7/dist-packages/librosa/core/spectrum.py:224: UserWarning: n_fft=2048 is too small for input signal of length=1\n",
            "  n_fft, y.shape[-1]\n"
          ]
        },
        {
          "output_type": "stream",
          "name": "stdout",
          "text": [
            "Getting coefficients for Hip-Hop genre...\n",
            "Getting coefficients for Electronic genre...\n",
            "Getting coefficients for Folk genre...\n"
          ]
        }
      ]
    },
    {
      "cell_type": "code",
      "metadata": {
        "id": "TW34QduQMfjt"
      },
      "source": [
        "# 0.5 Split and save dataset\n",
        "\n",
        "# load data\n",
        "X = np.array(audios)\n",
        "y = np.array(labels)\n",
        "X = torch.Tensor(X)\n",
        " # create train, validation and test split\n",
        "X_train, X_test, y_train, y_test = train_test_split(audios, labels, test_size=0.1, train_size=0.9, shuffle=True)\n",
        "X_train, X_validation, y_train, y_validation = train_test_split(X_train, y_train, test_size=0.2, train_size = 0.7, shuffle=True)\n",
        "\n",
        "X_train = torch.from_numpy(X_train)\n",
        "X_validation = torch.from_numpy(X_validation)\n",
        "X_test = torch.from_numpy(X_test)\n",
        "\n",
        "torch.save(X_train, \"/content/gdrive/MyDrive/APS360_project/X_train.pth\")\n",
        "torch.save(X_validation, \"/content/gdrive/MyDrive/APS360_project/X_validation.pth\")\n",
        "torch.save(X_test, \"/content/gdrive/MyDrive/APS360_project/X_test.pth\")\n",
        "\n",
        "le = preprocessing.LabelEncoder()\n",
        "targets_train = le.fit_transform(y_train)\n",
        "targets_train = torch.from_numpy(targets_train)\n",
        "torch.save(targets_train, \"/content/gdrive/MyDrive/APS360_project/targets_train.pth\")\n",
        "\n",
        "ls =  preprocessing.LabelEncoder()\n",
        "targets_validation = ls.fit_transform(y_validation)\n",
        "targets_validation = torch.from_numpy(targets_validation)\n",
        "torch.save(targets_validation, F\"/content/gdrive/MyDrive/APS360_project/targets_validation.pth\")\n",
        "\n",
        "lt =  preprocessing.LabelEncoder()\n",
        "targets_test = lt.fit_transform(y_test)\n",
        "targets_test = torch.from_numpy(targets_test)\n",
        "torch.save(targets_test, F\"/content/gdrive/MyDrive/APS360_project/targets_test.pth\")\n"
      ],
      "execution_count": 8,
      "outputs": []
    },
    {
      "cell_type": "code",
      "metadata": {
        "id": "WkUQhu6OfqZR"
      },
      "source": [
        "# 0.6 RNN-LSTM model\n",
        "class LSTMModel(nn.Module):\n",
        "    def __init__(self, input_size, hidden_size, num_classes, batch_size, num_layers):\n",
        "        super(LSTMModel, self).__init__()\n",
        "        \n",
        "        self.input_size = input_size #input size\n",
        "        self.hidden_size = hidden_size\n",
        "        self.num_layers = num_layers\n",
        "\n",
        "        self.lstm_1 = nn.LSTM(input_size, 64, batch_first=True)\n",
        "        self.lstm_2 = nn.LSTM(hidden_size, hidden_size, batch_first=True)\n",
        "        self.fc1 = nn.Linear(hidden_size*1*1, hidden_size*1*1)\n",
        "        self.dropout = nn.Dropout(0.3)\n",
        "        self.fc2 = nn.Linear(hidden_size*1*1, num_classes)\n",
        "\n",
        "    def init_state(self, batch_size):\n",
        "      self.batch_size = batch_size\n",
        "      return (torch.zeros(self.num_layers, batch_size, self.hidden_size),\n",
        "                torch.zeros(self.num_layers, batch_size, self.hidden_size))\n",
        "    def forward(self, x):\n",
        "        x = x.unsqueeze(0)\n",
        "        x = x.unsqueeze(1)\n",
        "        # print(x.size())\n",
        "        hs = self.init_state(1)\n",
        "        x, hs = self.lstm_1(x,hs)\n",
        "        # out, _ = self.rnn(x, h0)\n",
        "        # print(x.size())\n",
        "        # x = self.lstm_2(x)\n",
        "        x = self.dropout(nn.functional.relu(self.fc1(x[:, -1, :])))\n",
        "        x = nn.functional.softmax(self.fc2(x), dim = 1)\n",
        "        return x\n",
        "      "
      ],
      "execution_count": 9,
      "outputs": []
    },
    {
      "cell_type": "code",
      "metadata": {
        "id": "QHwpd7BEgzcs"
      },
      "source": [
        "# 0.7 Training code \n",
        "\n",
        "def get_accuracy(model, X_dataset, y_dataset, batch_size):\n",
        "    correct, total = 0, 0\n",
        "    for audios in X_dataset:\n",
        "      for labels in y_dataset:\n",
        "        output = model(audios)\n",
        "        pred = output.max(1, keepdim=True)[1]\n",
        "        # correct += (torch.max(audios, 1)[1]).sum()\n",
        "        correct += pred.eq(labels.view_as(pred)).sum().item()\n",
        "        # total = y_dataset.shape[0]\n",
        "    return  correct / batch_size\n",
        "\n",
        "def train(model, X_train, X_validation, y_train, y_validation, batch_size, num_epochs, learning_rate):\n",
        "  # torch.cuda.is_available() checks and returns a Boolean True if a GPU is available, else it'll return False\n",
        "  is_cuda = torch.cuda.is_available()\n",
        "\n",
        "  # If we have a GPU available, we'll set our device to GPU. We'll use this device variable later in our code.\n",
        "  if is_cuda:\n",
        "      device = torch.device(\"cuda\")\n",
        "      print(\"GPU is available\")\n",
        "  else:\n",
        "      device = torch.device(\"cpu\")\n",
        "      print(\"GPU not available, CPU used\")\n",
        "      \n",
        "  criterion = nn.CrossEntropyLoss()\n",
        "  optimizer = optim.Adam(model.parameters(), lr=learning_rate)\n",
        "\n",
        "  # train_loader = torch.utils.data.DataLoader(dataset=train_dataset, shuffle=True, batch_size=batch_size)\n",
        "  # val_loader = torch.utils.data.DataLoader(dataset=val_dataset, shuffle=False, batch_size=batch_size)\n",
        "\n",
        "  losses, train_acc, valid_acc = [], [], []\n",
        "  epochs = []\n",
        "  for epoch in range(num_epochs):\n",
        "        for i in X_train:\n",
        "          for j in y_train: \n",
        "            # print(labels)\n",
        "            optimizer.zero_grad()\n",
        "            # print(audios)\n",
        "            i = i.view(650)\n",
        "            j = j.view(1)\n",
        "            pred = model(i)\n",
        "            loss = criterion(pred, j)\n",
        "            loss.backward()\n",
        "            optimizer.step()\n",
        "            \n",
        "        losses.append(float(loss))     \n",
        "        if epoch % 5 == 4:\n",
        "            epochs.append(epoch)\n",
        "            train_acc.append(get_accuracy(model, X_train, y_train, batch_size=batch_size))\n",
        "            valid_acc.append(get_accuracy(model, X_validation, y_validation, batch_size=batch_size))\n",
        "            print(\"Epoch %d; Loss %f; Train Acc %f; Val Acc %f\" % (\n",
        "                epoch+1, loss, train_acc[-1], valid_acc[-1]))\n",
        "\n",
        "# plotting\n",
        "  plt.title(\"Training Curve\")\n",
        "  plt.plot(losses, label=\"Train\")\n",
        "  plt.xlabel(\"Epoch\")\n",
        "  plt.ylabel(\"Loss\")\n",
        "  plt.show()\n",
        "\n",
        "  plt.title(\"Training Curve\")\n",
        "  plt.plot(epochs, train_acc, label=\"Train\")\n",
        "  plt.plot(epochs, valid_acc, label=\"Validation\")\n",
        "  plt.xlabel(\"Epoch\")\n",
        "  plt.ylabel(\"Accuracy\")\n",
        "  plt.legend(loc='best')\n",
        "  plt.show()\n",
        "\n",
        "  print(\"Final Training Accuracy: {}\".format(train_acc[-1]))\n",
        "  print(\"Final Validation Accuracy: {}\".format(valid_acc[-1]))"
      ],
      "execution_count": 10,
      "outputs": []
    },
    {
      "cell_type": "code",
      "metadata": {
        "id": "285SB2pjZLGJ",
        "colab": {
          "base_uri": "https://localhost:8080/",
          "height": 712
        },
        "outputId": "21866043-d291-4ba9-e583-657a40b252ad"
      },
      "source": [
        "# 0.8 Create and train model \n",
        "\n",
        "device = torch.device('cuda' if torch.cuda.is_available() else 'cpu')\n",
        "input_size = (X_train.shape[1])\n",
        "model = LSTMModel(input_size=input_size, hidden_size=64, num_classes=4, batch_size=64, num_layers=1)\n",
        "train(model, X_train, X_validation, targets_train, targets_validation, batch_size=64, num_epochs=26, learning_rate=1e-5)"
      ],
      "execution_count": 11,
      "outputs": [
        {
          "output_type": "stream",
          "name": "stdout",
          "text": [
            "GPU not available, CPU used\n",
            "Epoch 5; Loss 1.417204; Train Acc 68.359375; Val Acc 4.500000\n",
            "Epoch 10; Loss 1.411268; Train Acc 68.359375; Val Acc 4.500000\n",
            "Epoch 15; Loss 1.398963; Train Acc 68.359375; Val Acc 4.500000\n",
            "Epoch 20; Loss 1.403062; Train Acc 68.359375; Val Acc 4.500000\n",
            "Epoch 25; Loss 1.399163; Train Acc 68.359375; Val Acc 4.500000\n"
          ]
        },
        {
          "output_type": "display_data",
          "data": {
            "image/png": "[encoded data removed]",
            "text/plain": [
              "<Figure size 432x288 with 1 Axes>"
            ]
          },
          "metadata": {
            "needs_background": "light"
          }
        },
        {
          "output_type": "display_data",
          "data": {
            "image/png": "[encoded data removed]",
            "text/plain": [
              "<Figure size 432x288 with 1 Axes>"
            ]
          },
          "metadata": {
            "needs_background": "light"
          }
        },
        {
          "output_type": "stream",
          "name": "stdout",
          "text": [
            "Final Training Accuracy: 68.359375\n",
            "Final Validation Accuracy: 4.5\n"
          ]
        }
      ]
    }
  ]
}
